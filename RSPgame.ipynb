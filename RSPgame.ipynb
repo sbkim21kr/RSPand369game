{
 "cells": [
  {
   "cell_type": "code",
   "execution_count": null,
   "id": "348c25e8",
   "metadata": {},
   "outputs": [
    {
     "name": "stdout",
     "output_type": "stream",
     "text": [
      "Hello World!\n",
      "what a nice day it is!\n"
     ]
    }
   ],
   "source": [
    "print(\"RSP game!\")\n",
    "\n",
    "# converting RSP to 012\n",
    "\n",
    "def RSPto012(rspString):\n",
    "    rspToUpper=rspString.upper()\n",
    "    rspDictionary={'R':0,'S':1,'P':2}\n",
    "    \n",
    "    try:\n",
    "        return rspDictionary[rspToUpper]\n",
    "    except KeyError:\n",
    "        raise ValueError(f\"Invalid input: '{rspString}'. Expected one of 'R', 'S', or 'P'.\")\n",
    "    \n",
    "    \n",
    "\n"
   ]
  }
 ],
 "metadata": {
  "kernelspec": {
   "display_name": "Python 3",
   "language": "python",
   "name": "python3"
  },
  "language_info": {
   "codemirror_mode": {
    "name": "ipython",
    "version": 3
   },
   "file_extension": ".py",
   "mimetype": "text/x-python",
   "name": "python",
   "nbconvert_exporter": "python",
   "pygments_lexer": "ipython3",
   "version": "3.13.7"
  }
 },
 "nbformat": 4,
 "nbformat_minor": 5
}
